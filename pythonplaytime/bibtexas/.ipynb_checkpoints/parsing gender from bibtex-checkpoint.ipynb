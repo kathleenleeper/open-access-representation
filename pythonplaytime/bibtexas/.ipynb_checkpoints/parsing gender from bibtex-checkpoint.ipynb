{
 "metadata": {
  "name": "",
  "signature": "sha256:4c7364c369119c0f5605d06cf71c7071d515badeb4b5e81722258a5ef558f180"
 },
 "nbformat": 3,
 "nbformat_minor": 0,
 "worksheets": [
  {
   "cells": [
    {
     "cell_type": "code",
     "collapsed": false,
     "input": [
      "from __future__ import division\n",
      "from genderComputer import GenderComputer #import gendercomputer - more fully featured\n",
      "import pprint as pp\n",
      "import os\n",
      "import bibtexparser as b #module for bibtexin'\n",
      "from bibtexparser.bparser import BibTexParser #import to add customization\n",
      "from bibtexparser.customization import *\n"
     ],
     "language": "python",
     "metadata": {},
     "outputs": [],
     "prompt_number": 135
    },
    {
     "cell_type": "code",
     "collapsed": false,
     "input": [
      "gc = GenderComputer(os.path.abspath('./nameLists')) #make gendercomputer"
     ],
     "language": "python",
     "metadata": {},
     "outputs": [
      {
       "output_type": "stream",
       "stream": "stdout",
       "text": [
        "Loaded dictionary from /home/feline/Documents/Repositories/open-access-representation/pythonplaytime/bibtexas/nameLists/gender.dict\n",
        "Finished initialization"
       ]
      },
      {
       "output_type": "stream",
       "stream": "stdout",
       "text": [
        "\n"
       ]
      }
     ],
     "prompt_number": 136
    },
    {
     "cell_type": "code",
     "collapsed": false,
     "input": [
      "bib = 'CriticalOpenNeuro.bib' #bring that bib file in"
     ],
     "language": "python",
     "metadata": {},
     "outputs": [],
     "prompt_number": 137
    },
    {
     "cell_type": "code",
     "collapsed": false,
     "input": [
      "def customizations(record):\n",
      "    \"\"\"Use some functions delivered by the library\n",
      "\n",
      "    :param record: a record\n",
      "    :returns: -- customized record\n",
      "    \"\"\"\n",
      "    record = type(record)\n",
      "    record = doi(record)\n",
      "    record = convert_to_unicode(record)\n",
      "    record = author(record)\n",
      "    return record"
     ],
     "language": "python",
     "metadata": {},
     "outputs": [],
     "prompt_number": 138
    },
    {
     "cell_type": "code",
     "collapsed": false,
     "input": [
      "with open(bib) as bibtex_file: \n",
      "    parser = BibTexParser()\n",
      "    parser.homogenize = True\n",
      "    parser.customization = customizations\n",
      "    data = b.load(bibtex_file, parser = parser)"
     ],
     "language": "python",
     "metadata": {},
     "outputs": [],
     "prompt_number": 139
    },
    {
     "cell_type": "code",
     "collapsed": false,
     "input": [
      "\"\"\"\n",
      "initialize variables \n",
      "\"\"\"\n",
      "women = 0\n",
      "men = 0\n",
      "uni = 0\n",
      "notav = 0\n",
      "auCount = 0"
     ],
     "language": "python",
     "metadata": {},
     "outputs": [],
     "prompt_number": 144
    },
    {
     "cell_type": "code",
     "collapsed": false,
     "input": [
      "for entry in data.entries:\n",
      "    title = entry[\"title\"]\n",
      "    if \"author\" in entry:\n",
      "        authors = entry[\"author\"] \n",
      "    else:\n",
      "        print \"no author in\", title\n",
      "    for j in authors:\n",
      "        auCount = auCount + 1\n",
      "        gender = gc.resolveGender(j, None) #resolve gender, yay\n",
      "        if gender == 'male':\n",
      "            men += 1\n",
      "        elif gender == 'female':\n",
      "            women += 1\n",
      "        elif gender == 'unisex':\n",
      "            uni += 1\n",
      "        else:\n",
      "            notav += 1"
     ],
     "language": "python",
     "metadata": {},
     "outputs": [
      {
       "output_type": "stream",
       "stream": "stdout",
       "text": [
        "no author in Hallucinogenic effects of {LSD} discovered {\\textemdash} History.com This Day in History {\\textemdash} 4/16/1943\n",
        "no author in"
       ]
      },
      {
       "output_type": "stream",
       "stream": "stdout",
       "text": [
        " Feminist Epistemologies\n"
       ]
      }
     ],
     "prompt_number": 145
    },
    {
     "cell_type": "code",
     "collapsed": false,
     "input": [
      "print \"authors ungendered:\", notav\n",
      "percentMen = men/auCount*100\n",
      "percentWomen = women/auCount*100\n",
      "percentUni = uni/auCount*100\n",
      "percentNotAv = notav/auCount*100\n",
      "print 'author count total:', auCount\n",
      "print 'women:', women,\",\", \"%.2f\" % percentWomen, '%'\n",
      "print 'men:', men,\",\", \"%.2f\" %  percentMen, '%'\n",
      "print 'unisex:', uni,\",\", \"%.2f\" %  percentUni, '%'\n",
      "print 'unassigned:', notav,\",\", \"%.2f\" %  percentNotAv, '%'"
     ],
     "language": "python",
     "metadata": {},
     "outputs": [
      {
       "output_type": "stream",
       "stream": "stdout",
       "text": [
        "authors ungendered: 101\n",
        "author count total: 975\n",
        "women: 307 , 31.49 %\n",
        "men: 551 , 56.51 %\n",
        "unisex: 16 , 1.64 %\n",
        "unassigned: 101 , 10.36 %\n"
       ]
      }
     ],
     "prompt_number": 146
    },
    {
     "cell_type": "code",
     "collapsed": false,
     "input": [],
     "language": "python",
     "metadata": {},
     "outputs": []
    }
   ],
   "metadata": {}
  }
 ]
}