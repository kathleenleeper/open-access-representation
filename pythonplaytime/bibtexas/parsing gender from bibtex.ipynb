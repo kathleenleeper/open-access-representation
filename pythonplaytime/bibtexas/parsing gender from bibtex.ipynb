{
 "metadata": {
  "name": "",
  "signature": "sha256:ee66e337d553a069ce92661fa4a009a1ad79a2a6ababa3e3933f7315b156437a"
 },
 "nbformat": 3,
 "nbformat_minor": 0,
 "worksheets": [
  {
   "cells": [
    {
     "cell_type": "code",
     "collapsed": false,
     "input": [
      "from __future__ import division\n",
      "from genderComputer import GenderComputer #import gendercomputer - more fully featured\n",
      "import pprint as pp\n",
      "import os\n",
      "import bibtexparser as b #module for bibtexin'\n",
      "from bibtexparser.bparser import BibTexParser #import to add customization\n",
      "from bibtexparser.customization import *\n"
     ],
     "language": "python",
     "metadata": {},
     "outputs": [],
     "prompt_number": 127
    },
    {
     "cell_type": "code",
     "collapsed": false,
     "input": [
      "gc = GenderComputer(os.path.abspath('./nameLists')) #make gendercomputer"
     ],
     "language": "python",
     "metadata": {},
     "outputs": [
      {
       "output_type": "stream",
       "stream": "stdout",
       "text": [
        "Loaded dictionary from /home/feline/Documents/Repositories/open-access-representation/pythonplaytime/bibtexas/nameLists/gender.dict\n",
        "Finished initialization"
       ]
      },
      {
       "output_type": "stream",
       "stream": "stdout",
       "text": [
        "\n"
       ]
      }
     ],
     "prompt_number": 128
    },
    {
     "cell_type": "code",
     "collapsed": false,
     "input": [
      "bib = 'CriticalOpenNeuro.bib' #bring that bib file in"
     ],
     "language": "python",
     "metadata": {},
     "outputs": [],
     "prompt_number": 129
    },
    {
     "cell_type": "code",
     "collapsed": false,
     "input": [
      "def customizations(record):\n",
      "    \"\"\"Use some functions delivered by the library\n",
      "\n",
      "    :param record: a record\n",
      "    :returns: -- customized record\n",
      "    \"\"\"\n",
      "    record = type(record)\n",
      "    record = doi(record)\n",
      "    record = convert_to_unicode(record)\n",
      "    record = author(record)\n",
      "    return record"
     ],
     "language": "python",
     "metadata": {},
     "outputs": [],
     "prompt_number": 98
    },
    {
     "cell_type": "code",
     "collapsed": false,
     "input": [
      "with open(bib) as bibtex_file: \n",
      "    parser = BibTexParser()\n",
      "    parser.homogenize = True\n",
      "    parser.customization = customizations\n",
      "    data = b.load(bibtex_file, parser = parser)"
     ],
     "language": "python",
     "metadata": {},
     "outputs": [],
     "prompt_number": 130
    },
    {
     "cell_type": "code",
     "collapsed": false,
     "input": [
      "women = 0\n",
      "men = 0\n",
      "uni = 0\n",
      "notav = 0\n",
      "auCount = 0"
     ],
     "language": "python",
     "metadata": {},
     "outputs": [],
     "prompt_number": 131
    },
    {
     "cell_type": "code",
     "collapsed": false,
     "input": [
      "for entry in data.entries:\n",
      "    title = entry[\"title\"]\n",
      "    if \"author\" in entry:\n",
      "        authors = entry[\"author\"] \n",
      "    else:\n",
      "        print \"no author in\", title\n",
      "    for j in authors:\n",
      "        auCount = auCount + 1\n",
      "        gender = gc.resolveGender(j, None) #resolve gender, yay\n",
      "        if gender == 'male':\n",
      "            men += 1\n",
      "        elif gender == 'female':\n",
      "            women += 1\n",
      "        elif gender == 'unisex':\n",
      "            uni += 1\n",
      "        else:\n",
      "            print j, title\n",
      "            notav += 1"
     ],
     "language": "python",
     "metadata": {},
     "outputs": [
      {
       "output_type": "stream",
       "stream": "stdout",
       "text": [
        "Gorelick, Root Indigenous sciences are not pseudoscience\n",
        "Geiger, R. Stuar The Rise and Decline of an Open Collaboration System: How Wikipedia's Reaction to Popularity Is Causing Its Decline\n",
        "Release, CERN Press {CERN} launches Open Hardware initiative\n",
        "{OseiTutu}, J. Janewa Sui Generis Regime for Traditional Knowledge: The Cultural Divide in Intellectual Property Law, A\n",
        "Braun, Lundy Racial Categories in Medical Practice: How Useful Are They?\n",
        "Holbrook, J. Britt Open Access and Its Enemies\n",
        "Wagenmakers, Eric-Jan"
       ]
      },
      {
       "output_type": "stream",
       "stream": "stdout",
       "text": [
        " An Agenda for Purely Confirmatory Research\n",
        "Ray, Rinki Sex Steroids and Stem Cell Function\n",
        "Wise, M. Norton Thoughts on the Politicization of Science through Commercialization\n",
        "Gold, I. A neuron doctrine in the philosophy of neuroscience\n",
        "Stoljar, D. A neuron doctrine in the philosophy of neuroscience\n",
        "Ally, Ariff Differentiation and maturation of embryonal carcinoma-derived neurons in cell culture\n",
        "Nakamura, Naosuke"
       ]
      },
      {
       "output_type": "stream",
       "stream": "stdout",
       "text": [
        " A rapid and efficient method for neuronal induction of the P19 embryonic carcinoma cell line\n",
        "Chan, C.-H. Emx1 is a Marker for Pyramidal Neurons of the\n",
        "Tan, Seong-Seng Emx1 is a Marker for Pyramidal Neurons of the\n",
        "Parnavelas, J. G. Emx1 is a Marker for Pyramidal Neurons of the\n",
        "Babu\u0161ka, V. Characterization of P19 cells during retinoic acid induced differentiation\n",
        "Kulda, V. Characterization of P19 cells during retinoic acid induced differentiation\n",
        "Houdek, Z. Characterization of P19 cells during retinoic acid induced differentiation\n",
        "Pe\u0161ta, M. Characterization of P19 cells during retinoic acid induced differentiation\n",
        "Cendelin, J. Characterization of P19 cells during retinoic acid induced differentiation\n",
        "Zech, N. Characterization of P19 cells during retinoic acid induced differentiation\n",
        "Pachern\u00edk, J. Characterization of P19 cells during retinoic acid induced differentiation\n",
        "Vo\u017eeh, F. Characterization of P19 cells during retinoic acid induced differentiation\n",
        "Uher, P. Characterization of P19 cells during retinoic acid induced differentiation\n",
        "Kr\u00e1l\u00ed\u010dkov\u00e1, M. Characterization of P19 cells during retinoic acid induced differentiation\n",
        "Rajeevan, Mangalathu S. Functional genomics of serotonin receptor 2A ({HTR}2A): interaction of polymorphism, methylation, expression and disease association\n",
        "Abbas, Atheir"
       ]
      },
      {
       "output_type": "stream",
       "stream": "stdout",
       "text": [
        " Arresting serotonin\n",
        "Zhang, L Sex differences in expression of serotonin receptors (subtypes 1A and 2A) in rat brain: a possible role of testosterone\n",
        "Ma, W Sex differences in expression of serotonin receptors (subtypes 1A and 2A) in rat brain: a possible role of testosterone\n",
        "Barker, J. L Sex differences in expression of serotonin receptors (subtypes 1A and 2A) in rat brain: a possible role of testosterone\n",
        "Rubinow, D. R Sex differences in expression of serotonin receptors (subtypes 1A and 2A) in rat brain: a possible role of testosterone\n",
        "Torper, Olef Generation of induced neurons via direct conversion in vivo\n",
        "Lau, Shong Generation of induced neurons via direct conversion in vivo\n",
        "Chiba, Shigetoshi Gene Expression of {MASH}-l, {MATH}-l, {neuroD} and {NSCL}-2, Basic Helix-Loop-Helix Proteins, during Neural Differentiation in P19 Embryonal Carcinoma Cells.\n",
        "Khor, Hwei Ling Neurons Derived from P19 Embryonic Carcinoma Cells as a Platform for Biosensor Applications: Optimisation and Characterisation\n",
        "Visiers, Irache Molecular basis of partial agonism: orientation of indoleamine ligands in the binding pocket of the human serotonin 5-{HT}2A receptor determines relative efficacy\n",
        "Panicker, Mitradas M. Internalization and recycling of 5-{HT}2A receptors activated by serotonin and protein kinase C-mediated mechanisms\n",
        "Salazar, F.H. Rick The pharmacology and distribution of human 5-hydroxytryptamine2B (5-{HT}2b) receptor gene products: comparison with 5-{HT}2a and 5-{HT}2c receptors\n",
        "Manji, Husseini"
       ]
      },
      {
       "output_type": "stream",
       "stream": "stdout",
       "text": [
        " A Naturally Occurring Amino Acid Substitution of the Human Serotonin 5-{HT}2A Receptor Influences Amplitude and Timing of Intracellular Calcium Mobilization\n",
        "Puig, M. Victoria The therapeutic role of 5-{HT}1A and 5-{HT}2A receptors in depression\n",
        "Lee, Hyeong-Min Hallucinogen actions on human brain revealed\n",
        "Chan, Pokman Hallucinogens Recruit Specific Cortical 5-{HT}2A Receptor-Mediated Signaling Pathways to Affect Behavior\n",
        "Ge, Yongchao Hallucinogens Recruit Specific Cortical 5-{HT}2A Receptor-Mediated Signaling Pathways to Affect Behavior\n",
        "Thomas, Tarita O. Insights into G Protein Structure, Function, and Regulation\n",
        "Kanagarajadurai, Karuppiah"
       ]
      },
      {
       "output_type": "stream",
       "stream": "stdout",
       "text": [
        " Molecular modeling and docking studies of human 5-hydroxytryptamine 2A (5-{HT}2A) receptor for the identification of hotspots for ligand binding\n",
        "Panicker, Mitradas M. Molecular modeling and docking studies of human 5-hydroxytryptamine 2A (5-{HT}2A) receptor for the identification of hotspots for ligand binding\n",
        "Huang, Shan-Fu Evidence that a protein{\\textendash}protein interaction `hot spot' on heterotrimeric G protein \\ensuremath{{\\beta}{\\gamma}} subunits is used for recognition of a subclass of effectors\n",
        "Gangadhar, Beechanahalli P. Evidence that a protein{\\textendash}protein interaction `hot spot' on heterotrimeric G protein \\ensuremath{{\\beta}{\\gamma}} subunits is used for recognition of a subclass of effectors\n",
        "Rebois, R. Victor The Role of G\\ensuremath{{\\beta}{\\gamma}} Subunits in the Organization, Assembly, and Function of GPCR Signaling Complexes\n",
        "Johansen, P\u00e5l-\u00d8rjan Psychedelics and Mental Health: A Population Study\n",
        "no author in Hallucinogenic effects of {LSD} discovered {\\textemdash} History.com This Day in History {\\textemdash} 4/16/1943\n",
        "Millman, K. Jarrod Data Sharing for Computational Neuroscience\n",
        "Guo, Quanmin Critical Assessment of the Evidence for Striped Nanoparticles\n",
        "Arunachalam, Subbiah"
       ]
      },
      {
       "output_type": "stream",
       "stream": "stdout",
       "text": [
        " Open access archiving: the fast track to building research capacity in developing countries\n",
        "Soares, Thannya Nascimento Publish (in a group) or perish (alone): the trend from single- to multi-authorship in biological papers\n",
        "Steen, R. Grant Retractions in the scientific literature: is the incidence of research fraud increasing?\n",
        "Moonesinghe, Ramal Most Published Research Findings Are False{\\textemdash}But a Little Replication Goes a Long Way\n",
        "Janssens, A. Cecile J. W Most Published Research Findings Are False{\\textemdash}But a Little Replication Goes a Long Way\n",
        "Fang, Ferric C. Retracted Science and the Retraction Index\n",
        "Begley, C. Glenn Drug development: Raise standards for preclinical cancer research\n",
        "Asadullah, Khusru Believe it or not: how much can we rely on published data on potential drug targets?\n",
        "Zhang, Minghua"
       ]
      },
      {
       "output_type": "stream",
       "stream": "stdout",
       "text": [
        " A comprehensive survey of retracted articles from the scholarly literature\n",
        "Gopalan, R Publication bias in clinical research\n",
        "Berlin, J. A Publication bias in clinical research\n",
        "Chan, An-Wen Systematic Review of the Empirical Evidence of Study Publication Bias and Outcome Reporting Bias\n",
        "{MOeLLER}, {ANDERS} P. Publication bias in ecology and evolution: an empirical assessment using the `trim and fill'method\n",
        "DA, Kronick"
       ]
      },
      {
       "output_type": "stream",
       "stream": "stdout",
       "text": [
        " {PEer} review in 18th-century scientific journalism\n",
        "JC, Burnham {THe} evolution of editorial peer review\n",
        "Comments, 2014|Academic communication|5 Altmetrics could enable scholarship from developing countries to receive due recognition.\n",
        "Khan, Razib Dragging scientific publishing into the 21st century\n",
        "Bj\u00f6rk, Bo-Christer Open access versus subscription journals: a comparison of scientific impact\n",
        "Kim, Heekyung Hellen"
       ]
      },
      {
       "output_type": "stream",
       "stream": "stdout",
       "text": [
        " The Effect of Free Access on the Diffusion of Scholarly Ideas\n",
        "Evans, J. A. Open Access and Global Participation in Science\n",
        "Reimer, J. Open Access and Global Participation in Science\n",
        "Miranda, J. Jaime Relation between the Global Burden of Disease and Randomized Clinical Trials Conducted in Latin America Published in the Five Leading Medical Journals\n",
        "Greysen, S Ryan Medical education in sub-Saharan Africa: a literature review: Medical education in sub-Saharan Africa\n",
        "Olapade-Olaopa, E Oluwabunmi Medical education in sub-Saharan Africa: a literature review: Medical education in sub-Saharan Africa\n",
        "Mullan, Fitzhugh Medical education in sub-Saharan Africa: a literature review: Medical education in sub-Saharan Africa\n",
        "Henry, Trotter Seeking Impact and Visibility: Scholarly Communication in Southern Africa\n",
        "Soo, Khee Chee"
       ]
      },
      {
       "output_type": "stream",
       "stream": "stdout",
       "text": [
        " The journal impact factor: too much of an impact?\n",
        "Editors, The PLoS Medicine The Impact Factor Game\n",
        "Fang, Ferric C. Causes for the Persistence of Impact Factor Mania\n",
        "Holbrook, J. Britt Research impact: We need negative metrics too\n",
        "Pillay, Pundy Universities and economic development in Africa\n",
        "{p.f.wouters@cwts.leidenuniv.nl},  Disentangling the meaning of `altmetrics': content analysis of Web of Science scientific publications\n",
        "Fernandes, G. Wilson Ethical abuses in the authorship of scientific papers\n",
        "Sumathipala, Athula Under-representation of developing countries in the research literature: ethical issues arising from a survey of five leading medical journals\n",
        "Clark, Jocalyn P."
       ]
      },
      {
       "output_type": "stream",
       "stream": "stdout",
       "text": [
        " Relation between randomized controlled trials published in leading general medical journals and the global burden of disease\n",
        "(Organization), Global Forum for Health Research The 10/90 report on health research, 2000.\n",
        "Obuaya, Chi-Chi International submissions to journals\n",
        "Review, Editors of the Harvard Educational Symposium: Unraveling the Double Bind: Women of Color in {STEM}\n",
        "Shonkoff, J. P. Leveraging the biology of adversity to address the roots of disparities in health and development\n",
        "Brotherton, P. Sean Revisiting Local Biology in the Era of Global Health\n",
        "Nguyen, Vinh-Kim"
       ]
      },
      {
       "output_type": "stream",
       "stream": "stdout",
       "text": [
        " Revisiting Local Biology in the Era of Global Health\n",
        "{Syamsidik},  Process for integrating local and indigenous knowledge with science for hydro-meteorological disaster risk reduction and climate change adaptation in coastal and small island communities\n",
        "Towghi, Fouzieyha The Biopolitics of Reproductive Technologies beyond the Clinic: Localizing {HPV} Vaccines in India\n",
        "History), Arctic Studies Center (National Museum of Natural The earth is faster now: indigenous observations of Arctic environment change\n",
        "no author in Feminist Epistemologies\n",
        "Roy, Deboleena Feminist theory in science: working toward a practical transformation\n",
        "Roy, Deboleena Asking different questions: Feminist practices for the natural sciences\n",
        "Boulware, L. Ebony"
       ]
      },
      {
       "output_type": "stream",
       "stream": "stdout",
       "text": [
        " Race and trust in the health care system.\n",
        "Strenta, A. Christopher Choosing and leaving science in highly selective institutions\n"
       ]
      }
     ],
     "prompt_number": 132
    },
    {
     "cell_type": "code",
     "collapsed": false,
     "input": [
      "print \"authors ungendered:\", notav"
     ],
     "language": "python",
     "metadata": {},
     "outputs": [
      {
       "output_type": "stream",
       "stream": "stdout",
       "text": [
        "authors ungendered: 612\n"
       ]
      }
     ],
     "prompt_number": 104
    },
    {
     "cell_type": "code",
     "collapsed": false,
     "input": [
      "print \"authors ungendered:\", notav"
     ],
     "language": "python",
     "metadata": {},
     "outputs": [
      {
       "output_type": "stream",
       "stream": "stdout",
       "text": [
        "authors ungendered: 123\n"
       ]
      }
     ],
     "prompt_number": 113
    },
    {
     "cell_type": "code",
     "collapsed": false,
     "input": [
      "print \"authors ungendered:\", notav"
     ],
     "language": "python",
     "metadata": {},
     "outputs": [
      {
       "output_type": "stream",
       "stream": "stdout",
       "text": [
        "authors ungendered: 105\n"
       ]
      }
     ],
     "prompt_number": 118
    },
    {
     "cell_type": "code",
     "collapsed": false,
     "input": [
      "print \"authors ungendered:\", notav"
     ],
     "language": "python",
     "metadata": {},
     "outputs": [
      {
       "output_type": "stream",
       "stream": "stdout",
       "text": [
        "authors ungendered: 101\n"
       ]
      }
     ],
     "prompt_number": 133
    },
    {
     "cell_type": "code",
     "collapsed": false,
     "input": [
      "print \"authors ungendered:\", notav\n",
      "percentMen = men/auCount*100\n",
      "percentWomen = women/auCount*100\n",
      "percentUni = uni/auCount*100\n",
      "percentNotAv = notav/auCount*100\n",
      "print 'author count total:', auCount\n",
      "print 'women:', women,\",\", \"%.2f\" % percentWomen, '%'\n",
      "print 'men:', men,\",\", \"%.2f\" %  percentMen, '%'\n",
      "print 'unisex:', uni,\",\", \"%.2f\" %  percentUni, '%'\n",
      "print 'unassigned:', notav,\",\", \"%.2f\" %  percentNotAv, '%'"
     ],
     "language": "python",
     "metadata": {},
     "outputs": [
      {
       "output_type": "stream",
       "stream": "stdout",
       "text": [
        "authors ungendered: 101\n",
        "author count total: 975\n",
        "women: 307 , "
       ]
      },
      {
       "output_type": "stream",
       "stream": "stdout",
       "text": [
        "31.49 %\n",
        "men: 551 , 56.51 %\n",
        "unisex: 16 , 1.64 %\n",
        "unassigned: 101 , 10.36 %\n"
       ]
      }
     ],
     "prompt_number": 134
    },
    {
     "cell_type": "code",
     "collapsed": false,
     "input": [],
     "language": "python",
     "metadata": {},
     "outputs": []
    }
   ],
   "metadata": {}
  }
 ]
}